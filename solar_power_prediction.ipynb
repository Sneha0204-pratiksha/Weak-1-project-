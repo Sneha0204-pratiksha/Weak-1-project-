{
 "cells": [
  {
   "cell_type": "markdown",
   "id": "1ee0b7d1",
   "metadata": {},
   "source": [
    "# Solar Power Prediction using Linear Regression"
   ]
  },
  {
   "cell_type": "code",
   "execution_count": null,
   "id": "a45bf865",
   "metadata": {},
   "outputs": [],
   "source": [
    "\n",
    "# Step 1: Import Required Libraries\n",
    "import pandas as pd\n",
    "from sklearn.model_selection import train_test_split\n",
    "from sklearn.linear_model import LinearRegression\n",
    "from sklearn.metrics import mean_squared_error, r2_score\n",
    "import joblib\n"
   ]
  },
  {
   "cell_type": "code",
   "execution_count": null,
   "id": "8fcd5214",
   "metadata": {},
   "outputs": [],
   "source": [
    "\n",
    "# Step 2: Load the Dataset\n",
    "dataset_path = 'improved_weather_data.csv'  # Replace with the correct file path\n",
    "data = pd.read_csv(dataset_path)\n"
   ]
  },
  {
   "cell_type": "code",
   "execution_count": null,
   "id": "52715aa6",
   "metadata": {},
   "outputs": [],
   "source": [
    "\n",
    "# Step 3: Feature Selection\n",
    "features = [\n",
    "    'temperature_2m_C', 'humidity_2m_%', 'sea_level_pressure_hPa',\n",
    "    'precipitation_mm', 'cloud_cover_%', 'shortwave_radiation_Wm2',\n",
    "    'zenith_deg', 'azimuth_deg'\n",
    "]\n",
    "target = 'power_generated_kW'\n",
    "\n",
    "# Prepare the data\n",
    "X = data[features]\n",
    "y = data[target]\n"
   ]
  },
  {
   "cell_type": "code",
   "execution_count": null,
   "id": "d659cb8b",
   "metadata": {},
   "outputs": [],
   "source": [
    "\n",
    "# Step 4: Train-Test Split\n",
    "X_train, X_test, y_train, y_test = train_test_split(X, y, test_size=0.2, random_state=42)\n"
   ]
  },
  {
   "cell_type": "code",
   "execution_count": null,
   "id": "5c9db89d",
   "metadata": {},
   "outputs": [],
   "source": [
    "\n",
    "# Step 5: Train the Linear Regression Model\n",
    "model = LinearRegression()\n",
    "model.fit(X_train, y_train)\n"
   ]
  },
  {
   "cell_type": "code",
   "execution_count": null,
   "id": "8f29e625",
   "metadata": {},
   "outputs": [],
   "source": [
    "\n",
    "# Step 6: Predictions\n",
    "y_pred = model.predict(X_test)\n"
   ]
  },
  {
   "cell_type": "code",
   "execution_count": null,
   "id": "315e5433",
   "metadata": {},
   "outputs": [],
   "source": [
    "\n",
    "# Step 7: Evaluation\n",
    "mse = mean_squared_error(y_test, y_pred)\n",
    "r2 = r2_score(y_test, y_pred)\n",
    "\n",
    "print(\"Model Evaluation Metrics:\")\n",
    "print(f\"Mean Squared Error (MSE): {mse:.2f}\")\n",
    "print(f\"R-squared (R2): {r2:.2f}\")\n",
    "\n",
    "# Display model coefficients\n",
    "print(\"\\nFeature Coefficients:\")\n",
    "for feature, coef in zip(features, model.coef_):\n",
    "    print(f\"{feature}: {coef:.4f}\")\n"
   ]
  },
  {
   "cell_type": "code",
   "execution_count": null,
   "id": "6c906cfc",
   "metadata": {},
   "outputs": [],
   "source": [
    "\n",
    "# Step 8: Save the Model\n",
    "model_file = 'solar_power_prediction_model.pkl'\n",
    "joblib.dump(model, model_file)\n",
    "print(f\"\\nModel saved as {model_file}\")\n"
   ]
  }
 ],
 "metadata": {},
 "nbformat": 4,
 "nbformat_minor": 5
}
